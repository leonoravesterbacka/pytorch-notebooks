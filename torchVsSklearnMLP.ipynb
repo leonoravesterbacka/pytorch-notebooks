{
 "cells": [
  {
   "cell_type": "markdown",
   "metadata": {},
   "source": [
    "### pytorch MLP regressor vs sklearn MLP regressor\n",
    "\n",
    "just comparing a MLP regressor in pytorch vs a MLP regressor in sklearn. for fun."
   ]
  },
  {
   "cell_type": "code",
   "execution_count": null,
   "metadata": {
    "scrolled": true
   },
   "outputs": [],
   "source": [
    "%matplotlib inline\n",
    "import matplotlib.pyplot as plt\n",
    "import numpy as np\n",
    "import theano\n",
    "from itertools import product\n",
    "import root_numpy\n",
    "import pandas as pd\n",
    "import uproot\n",
    "import torch\n",
    "np.random.seed(314)"
   ]
  },
  {
   "cell_type": "code",
   "execution_count": 1,
   "metadata": {},
   "outputs": [
    {
     "ename": "NameError",
     "evalue": "name 'root_numpy' is not defined",
     "output_type": "error",
     "traceback": [
      "\u001b[0;31m\u001b[0m",
      "\u001b[0;31mNameError\u001b[0mTraceback (most recent call last)",
      "\u001b[0;32m<ipython-input-1-3b3ff1b19336>\u001b[0m in \u001b[0;36m<module>\u001b[0;34m()\u001b[0m\n\u001b[1;32m      8\u001b[0m \u001b[0;31m#oDF   = pd.DataFrame(original,columns=variables)\u001b[0m\u001b[0;34m\u001b[0m\u001b[0;34m\u001b[0m\u001b[0m\n\u001b[1;32m      9\u001b[0m \u001b[0;31m#tDF   = pd.DataFrame(target,columns=variables)\u001b[0m\u001b[0;34m\u001b[0m\u001b[0;34m\u001b[0m\u001b[0m\n\u001b[0;32m---> 10\u001b[0;31m \u001b[0moriginal\u001b[0m  \u001b[0;34m=\u001b[0m \u001b[0mroot_numpy\u001b[0m\u001b[0;34m.\u001b[0m\u001b[0mroot2array\u001b[0m\u001b[0;34m(\u001b[0m\u001b[0;34m'/eos/user/m/mvesterb/data/pmg/renorm2/Zmumu_Sherpa_221_testMerge/merged_sample/MUR0p5_MUF1_PDF261000.root'\u001b[0m\u001b[0;34m,\u001b[0m \u001b[0mbranches\u001b[0m\u001b[0;34m=\u001b[0m\u001b[0mvariables\u001b[0m\u001b[0;34m)\u001b[0m\u001b[0;34m\u001b[0m\u001b[0m\n\u001b[0m\u001b[1;32m     11\u001b[0m \u001b[0mtarget\u001b[0m    \u001b[0;34m=\u001b[0m \u001b[0mroot_numpy\u001b[0m\u001b[0;34m.\u001b[0m\u001b[0mroot2array\u001b[0m\u001b[0;34m(\u001b[0m\u001b[0;34m'/eos/user/m/mvesterb/data/pmg/renorm2/Zmumu_Sherpa_221_testMerge/merged_sample/MUR2_MUF1_PDF261000.root'\u001b[0m\u001b[0;34m,\u001b[0m \u001b[0mbranches\u001b[0m\u001b[0;34m=\u001b[0m\u001b[0mvariables\u001b[0m\u001b[0;34m)\u001b[0m\u001b[0;34m\u001b[0m\u001b[0m\n\u001b[1;32m     12\u001b[0m \u001b[0moriginalW\u001b[0m \u001b[0;34m=\u001b[0m \u001b[0mroot_numpy\u001b[0m\u001b[0;34m.\u001b[0m\u001b[0mroot2array\u001b[0m\u001b[0;34m(\u001b[0m\u001b[0;34m'/eos/user/m/mvesterb/data/pmg/renorm2/Zmumu_Sherpa_221_testMerge/merged_sample/MUR0p5_MUF1_PDF261000.root'\u001b[0m\u001b[0;34m,\u001b[0m \u001b[0mbranches\u001b[0m\u001b[0;34m=\u001b[0m\u001b[0mweights\u001b[0m\u001b[0;34m)\u001b[0m\u001b[0;34m\u001b[0m\u001b[0m\n",
      "\u001b[0;31mNameError\u001b[0m: name 'root_numpy' is not defined"
     ]
    }
   ],
   "source": [
    "#variables = ['VpT','Njets','l1pT']\n",
    "variables = ['VpT','Njets','j1pT', 'j2pT', 'HT','ptmiss', 'l1pT','Veta','j1eta','j2eta']\n",
    "weights = ['evWeight']\n",
    "#get original and target samples, madgraph:original, sherpa:target\n",
    "#original  = root_numpy.root2array('/eos/user/m/mvesterb/data/madgraph/one/Nominal.root', branches=variables)\n",
    "#target    = root_numpy.root2array('/eos/user/m/mvesterb/data/sherpa/one/Nominal.root', branches=variables)\n",
    "##create dataframes to do the training on, and also get the sample weights in separate dataframes for resampling\n",
    "#oDF   = pd.DataFrame(original,columns=variables)\n",
    "#tDF   = pd.DataFrame(target,columns=variables)\n",
    "original  = root_numpy.root2array('/eos/user/m/mvesterb/data/pmg/renorm2/Zmumu_Sherpa_221_testMerge/merged_sample/MUR0p5_MUF1_PDF261000.root', branches=variables)\n",
    "target    = root_numpy.root2array('/eos/user/m/mvesterb/data/pmg/renorm2/Zmumu_Sherpa_221_testMerge/merged_sample/MUR2_MUF1_PDF261000.root', branches=variables)\n",
    "originalW = root_numpy.root2array('/eos/user/m/mvesterb/data/pmg/renorm2/Zmumu_Sherpa_221_testMerge/merged_sample/MUR0p5_MUF1_PDF261000.root', branches=weights)\n",
    "targetW   = root_numpy.root2array('/eos/user/m/mvesterb/data/pmg/renorm2/Zmumu_Sherpa_221_testMerge/merged_sample/MUR2_MUF1_PDF261000.root', branches=weights)\n",
    "#create dataframes to do the training on\n",
    "oDF  = pd.DataFrame(original,columns=variables)\n",
    "tDF  = pd.DataFrame(target,columns=variables)\n",
    "oWDF  = pd.DataFrame(originalW,columns=weights)\n",
    "tWDF  = pd.DataFrame(targetW,columns=weights)"
   ]
  },
  {
   "cell_type": "code",
   "execution_count": null,
   "metadata": {},
   "outputs": [],
   "source": [
    "pTruthMUR1    = (oWDF.evWeight)/np.sum(oWDF.evWeight.astype(np.float))\n",
    "pTruthMUR2    = (tWDF.evWeight)/np.sum(tWDF.evWeight.astype(np.float))\n",
    "#iTruthMUR1    = np.random.choice(np.arange(len(dfMUR1)),size=int(np.sum(dfWMUR1.truthWeight.astype(np.float))),p=pTruthMUR1)\n",
    "iTruthMUR1    = np.random.choice(np.arange(len(oDF)),size=len(oDF),p=pTruthMUR1)\n",
    "iTruthMUR2    = np.random.choice(np.arange(len(tDF)),size=len(tDF),p=pTruthMUR2)\n",
    "o     = oDF.iloc[iTruthMUR1] #original\n",
    "t     = tDF.iloc[iTruthMUR2] #target"
   ]
  },
  {
   "cell_type": "markdown",
   "metadata": {},
   "source": [
    "A discriminator is trained to differentiate the original and the target distributions from each other, as well as differentiating the target distribution from the original distributions with the learned carl applied. Well learned weights would make the target and reweighted distributions very similar and indistinguishable for the discriminator. "
   ]
  },
  {
   "cell_type": "markdown",
   "metadata": {},
   "source": [
    "this is the sklearn implementation:"
   ]
  },
  {
   "cell_type": "code",
   "execution_count": null,
   "metadata": {},
   "outputs": [],
   "source": [
    "n_target = o.shape[0]\n",
    "X0_all = o.values[:n_target,:]\n",
    "X0_test = o.values[-n_target:,:]\n",
    "X1_all = t.values\n",
    "#make training data from all samples\n",
    "num1 = X0_all.shape[0]\n",
    "num2 = X1_all.shape[0]\n",
    "X = np.vstack((X0_all,X1_all))\n",
    "y = np.ones(num1 + num2, dtype=np.int)\n",
    "X0, X1 = X0_all, X1_all\n",
    "y[num1:] = 0\n",
    "print(X0.shape)\n",
    "print(X1.shape)\n",
    "print(y.shape)\n",
    "print(X.shape)"
   ]
  },
  {
   "cell_type": "code",
   "execution_count": 2,
   "metadata": {},
   "outputs": [
    {
     "ename": "NameError",
     "evalue": "name 'X' is not defined",
     "output_type": "error",
     "traceback": [
      "\u001b[0;31m\u001b[0m",
      "\u001b[0;31mNameError\u001b[0mTraceback (most recent call last)",
      "\u001b[0;32m<ipython-input-2-60e53cfc3312>\u001b[0m in \u001b[0;36m<module>\u001b[0;34m()\u001b[0m\n\u001b[1;32m      7\u001b[0m                \u001b[0mlearning_rate\u001b[0m\u001b[0;34m=\u001b[0m\u001b[0;34m\"constant\"\u001b[0m\u001b[0;34m,\u001b[0m \u001b[0msolver\u001b[0m\u001b[0;34m=\u001b[0m\u001b[0;34m\"lbfgs\"\u001b[0m\u001b[0;34m,\u001b[0m \u001b[0mrandom_state\u001b[0m\u001b[0;34m=\u001b[0m\u001b[0;36m1\u001b[0m\u001b[0;34m,\u001b[0m\u001b[0;34m\u001b[0m\u001b[0m\n\u001b[1;32m      8\u001b[0m                max_iter=100)\n\u001b[0;32m----> 9\u001b[0;31m \u001b[0mclassifier\u001b[0m\u001b[0;34m.\u001b[0m\u001b[0mfit\u001b[0m\u001b[0;34m(\u001b[0m\u001b[0mX\u001b[0m\u001b[0;34m,\u001b[0m\u001b[0my\u001b[0m\u001b[0;34m)\u001b[0m\u001b[0;34m\u001b[0m\u001b[0m\n\u001b[0m\u001b[1;32m     10\u001b[0m \u001b[0my_train\u001b[0m \u001b[0;34m=\u001b[0m \u001b[0mclassifier\u001b[0m\u001b[0;34m.\u001b[0m\u001b[0mpredict\u001b[0m\u001b[0;34m(\u001b[0m\u001b[0mX\u001b[0m\u001b[0;34m)\u001b[0m\u001b[0;34m\u001b[0m\u001b[0m\n\u001b[1;32m     11\u001b[0m \u001b[0;31m#print(\"accuracy_score\", accuracy_score(y, y_train))\u001b[0m\u001b[0;34m\u001b[0m\u001b[0;34m\u001b[0m\u001b[0m\n",
      "\u001b[0;31mNameError\u001b[0m: name 'X' is not defined"
     ]
    }
   ],
   "source": [
    "from sklearn.neural_network import MLPRegressor \n",
    "\n",
    "from sklearn.preprocessing import StandardScaler\n",
    "from sklearn.metrics import accuracy_score\n",
    "classifier = MLPRegressor(tol=1e-05, activation=\"logistic\", \n",
    "               hidden_layer_sizes=(10, 10), learning_rate_init=1e-07, \n",
    "               learning_rate=\"constant\", solver=\"lbfgs\", random_state=1,\n",
    "               max_iter=100)\n",
    "classifier.fit(X,y) \n",
    "y_train = classifier.predict(X)\n",
    "#print(\"accuracy_score\", accuracy_score(y, y_train))\n",
    "print(\"classifier\", classifier)\n",
    "print(\"classifier score\",classifier.score(X,y))"
   ]
  },
  {
   "cell_type": "code",
   "execution_count": 18,
   "metadata": {},
   "outputs": [
    {
     "name": "stdout",
     "output_type": "stream",
     "text": [
      "('y', tensor([1., 1., 1.,  ..., 0., 0., 0.]))\n",
      "('y_pred', array([0.47940063, 0.47957589, 0.47939171, ..., 0.54771504, 0.47939027,\n",
      "       0.47938647]))\n"
     ]
    },
    {
     "ename": "ValueError",
     "evalue": "Expected 2D array, got 1D array instead:\narray=[0.47940063 0.47957589 0.47939171 ... 0.54771504 0.47939027 0.47938647].\nReshape your data either using array.reshape(-1, 1) if your data has a single feature or array.reshape(1, -1) if it contains a single sample.",
     "output_type": "error",
     "traceback": [
      "\u001b[0;31m\u001b[0m",
      "\u001b[0;31mValueError\u001b[0mTraceback (most recent call last)",
      "\u001b[0;32m<ipython-input-18-130fc4b92b96>\u001b[0m in \u001b[0;36m<module>\u001b[0;34m()\u001b[0m\n\u001b[1;32m      2\u001b[0m \u001b[0;32mprint\u001b[0m\u001b[0;34m(\u001b[0m\u001b[0;34m\"y\"\u001b[0m\u001b[0;34m,\u001b[0m\u001b[0my\u001b[0m\u001b[0;34m)\u001b[0m\u001b[0;34m\u001b[0m\u001b[0m\n\u001b[1;32m      3\u001b[0m \u001b[0;32mprint\u001b[0m\u001b[0;34m(\u001b[0m\u001b[0;34m\"y_pred\"\u001b[0m\u001b[0;34m,\u001b[0m\u001b[0my_pred\u001b[0m\u001b[0;34m)\u001b[0m\u001b[0;34m\u001b[0m\u001b[0m\n\u001b[0;32m----> 4\u001b[0;31m \u001b[0;32mprint\u001b[0m\u001b[0;34m(\u001b[0m\u001b[0;34m\"classifier.score(X,y)\"\u001b[0m\u001b[0;34m,\u001b[0m\u001b[0mclassifier\u001b[0m\u001b[0;34m.\u001b[0m\u001b[0mscore\u001b[0m\u001b[0;34m(\u001b[0m\u001b[0my_pred\u001b[0m\u001b[0;34m,\u001b[0m\u001b[0my\u001b[0m\u001b[0;34m)\u001b[0m\u001b[0;34m)\u001b[0m\u001b[0;34m\u001b[0m\u001b[0m\n\u001b[0m",
      "\u001b[0;32m/cvmfs/sft.cern.ch/lcg/views/LCG_96/x86_64-centos7-gcc8-opt/lib/python2.7/site-packages/sklearn/base.pyc\u001b[0m in \u001b[0;36mscore\u001b[0;34m(self, X, y, sample_weight)\u001b[0m\n\u001b[1;32m    328\u001b[0m \u001b[0;34m\u001b[0m\u001b[0m\n\u001b[1;32m    329\u001b[0m         \u001b[0;32mfrom\u001b[0m \u001b[0;34m.\u001b[0m\u001b[0mmetrics\u001b[0m \u001b[0;32mimport\u001b[0m \u001b[0mr2_score\u001b[0m\u001b[0;34m\u001b[0m\u001b[0m\n\u001b[0;32m--> 330\u001b[0;31m         return r2_score(y, self.predict(X), sample_weight=sample_weight,\n\u001b[0m\u001b[1;32m    331\u001b[0m                         multioutput='variance_weighted')\n\u001b[1;32m    332\u001b[0m \u001b[0;34m\u001b[0m\u001b[0m\n",
      "\u001b[0;32m/cvmfs/sft.cern.ch/lcg/views/LCG_96/x86_64-centos7-gcc8-opt/lib/python2.7/site-packages/sklearn/neural_network/multilayer_perceptron.pyc\u001b[0m in \u001b[0;36mpredict\u001b[0;34m(self, X)\u001b[0m\n\u001b[1;32m   1305\u001b[0m         \"\"\"\n\u001b[1;32m   1306\u001b[0m         \u001b[0mcheck_is_fitted\u001b[0m\u001b[0;34m(\u001b[0m\u001b[0mself\u001b[0m\u001b[0;34m,\u001b[0m \u001b[0;34m\"coefs_\"\u001b[0m\u001b[0;34m)\u001b[0m\u001b[0;34m\u001b[0m\u001b[0m\n\u001b[0;32m-> 1307\u001b[0;31m         \u001b[0my_pred\u001b[0m \u001b[0;34m=\u001b[0m \u001b[0mself\u001b[0m\u001b[0;34m.\u001b[0m\u001b[0m_predict\u001b[0m\u001b[0;34m(\u001b[0m\u001b[0mX\u001b[0m\u001b[0;34m)\u001b[0m\u001b[0;34m\u001b[0m\u001b[0m\n\u001b[0m\u001b[1;32m   1308\u001b[0m         \u001b[0;32mif\u001b[0m \u001b[0my_pred\u001b[0m\u001b[0;34m.\u001b[0m\u001b[0mshape\u001b[0m\u001b[0;34m[\u001b[0m\u001b[0;36m1\u001b[0m\u001b[0;34m]\u001b[0m \u001b[0;34m==\u001b[0m \u001b[0;36m1\u001b[0m\u001b[0;34m:\u001b[0m\u001b[0;34m\u001b[0m\u001b[0m\n\u001b[1;32m   1309\u001b[0m             \u001b[0;32mreturn\u001b[0m \u001b[0my_pred\u001b[0m\u001b[0;34m.\u001b[0m\u001b[0mravel\u001b[0m\u001b[0;34m(\u001b[0m\u001b[0;34m)\u001b[0m\u001b[0;34m\u001b[0m\u001b[0m\n",
      "\u001b[0;32m/cvmfs/sft.cern.ch/lcg/views/LCG_96/x86_64-centos7-gcc8-opt/lib/python2.7/site-packages/sklearn/neural_network/multilayer_perceptron.pyc\u001b[0m in \u001b[0;36m_predict\u001b[0;34m(self, X)\u001b[0m\n\u001b[1;32m    656\u001b[0m             \u001b[0mThe\u001b[0m \u001b[0mdecision\u001b[0m \u001b[0mfunction\u001b[0m \u001b[0mof\u001b[0m \u001b[0mthe\u001b[0m \u001b[0msamples\u001b[0m \u001b[0;32mfor\u001b[0m \u001b[0meach\u001b[0m \u001b[0;32mclass\u001b[0m \u001b[0;32min\u001b[0m \u001b[0mthe\u001b[0m \u001b[0mmodel\u001b[0m\u001b[0;34m.\u001b[0m\u001b[0;34m\u001b[0m\u001b[0m\n\u001b[1;32m    657\u001b[0m         \"\"\"\n\u001b[0;32m--> 658\u001b[0;31m         \u001b[0mX\u001b[0m \u001b[0;34m=\u001b[0m \u001b[0mcheck_array\u001b[0m\u001b[0;34m(\u001b[0m\u001b[0mX\u001b[0m\u001b[0;34m,\u001b[0m \u001b[0maccept_sparse\u001b[0m\u001b[0;34m=\u001b[0m\u001b[0;34m[\u001b[0m\u001b[0;34m'csr'\u001b[0m\u001b[0;34m,\u001b[0m \u001b[0;34m'csc'\u001b[0m\u001b[0;34m,\u001b[0m \u001b[0;34m'coo'\u001b[0m\u001b[0;34m]\u001b[0m\u001b[0;34m)\u001b[0m\u001b[0;34m\u001b[0m\u001b[0m\n\u001b[0m\u001b[1;32m    659\u001b[0m \u001b[0;34m\u001b[0m\u001b[0m\n\u001b[1;32m    660\u001b[0m         \u001b[0;31m# Make sure self.hidden_layer_sizes is a list\u001b[0m\u001b[0;34m\u001b[0m\u001b[0;34m\u001b[0m\u001b[0m\n",
      "\u001b[0;32m/cvmfs/sft.cern.ch/lcg/views/LCG_96/x86_64-centos7-gcc8-opt/lib/python2.7/site-packages/sklearn/utils/validation.pyc\u001b[0m in \u001b[0;36mcheck_array\u001b[0;34m(array, accept_sparse, accept_large_sparse, dtype, order, copy, force_all_finite, ensure_2d, allow_nd, ensure_min_samples, ensure_min_features, warn_on_dtype, estimator)\u001b[0m\n\u001b[1;32m    550\u001b[0m                     \u001b[0;34m\"Reshape your data either using array.reshape(-1, 1) if \"\u001b[0m\u001b[0;34m\u001b[0m\u001b[0m\n\u001b[1;32m    551\u001b[0m                     \u001b[0;34m\"your data has a single feature or array.reshape(1, -1) \"\u001b[0m\u001b[0;34m\u001b[0m\u001b[0m\n\u001b[0;32m--> 552\u001b[0;31m                     \"if it contains a single sample.\".format(array))\n\u001b[0m\u001b[1;32m    553\u001b[0m \u001b[0;34m\u001b[0m\u001b[0m\n\u001b[1;32m    554\u001b[0m         \u001b[0;31m# in the future np.flexible dtypes will be handled like object dtypes\u001b[0m\u001b[0;34m\u001b[0m\u001b[0;34m\u001b[0m\u001b[0m\n",
      "\u001b[0;31mValueError\u001b[0m: Expected 2D array, got 1D array instead:\narray=[0.47940063 0.47957589 0.47939171 ... 0.54771504 0.47939027 0.47938647].\nReshape your data either using array.reshape(-1, 1) if your data has a single feature or array.reshape(1, -1) if it contains a single sample."
     ]
    }
   ],
   "source": [
    "y_pred = classifier.predict(X0_test)\n",
    "print(\"y\",y)\n",
    "print(\"y_pred\",y_pred)\n",
    "print(\"classifier.score(X,y)\",classifier.score(y_pred,y))"
   ]
  },
  {
   "cell_type": "markdown",
   "metadata": {},
   "source": [
    "This is the torch equivalence:"
   ]
  },
  {
   "cell_type": "code",
   "execution_count": 12,
   "metadata": {},
   "outputs": [
    {
     "name": "stdout",
     "output_type": "stream",
     "text": [
      "('y', tensor([1., 1., 1.,  ..., 0., 0., 0.]))\n",
      "('y', tensor([1., 1., 1.,  ..., 0., 0., 0.]))\n",
      "torch.Size([234792, 10])\n",
      "torch.Size([235163, 10])\n",
      "torch.Size([469955])\n",
      "torch.Size([469955, 10])\n"
     ]
    }
   ],
   "source": [
    "oT = torch.tensor(oDF[variables].values,dtype=torch.float)\n",
    "tT = torch.tensor(tDF[variables].values,dtype=torch.float)\n",
    "\n",
    "X0_all  = oT[:n_target,:]\n",
    "X0_test = oT[-n_target:,:]\n",
    "X1_all = tT\n",
    "\n",
    "num1 = X0_all.shape[0]\n",
    "num2 = X1_all.shape[0]\n",
    "X = torch.cat([X0_all,X1_all])\n",
    "y = torch.ones(num1+num2,dtype=torch.float) \n",
    "y[num1:] = 0\n",
    "print(\"y\",y)\n",
    "X0, X1 = X0_all, X1_all\n",
    "\n",
    "X0.requires_grad_(True),X1.requires_grad_(True),X.requires_grad_(True)\n",
    "\n",
    "X = torch.FloatTensor(X)\n",
    "X0 = torch.FloatTensor(X0)\n",
    "X1 = torch.FloatTensor(X1)\n",
    "y = torch.FloatTensor(y)\n",
    "print(\"y\",y)\n",
    "\n",
    "print(X0.shape)\n",
    "print(X1.shape)\n",
    "print(y.shape)\n",
    "print(X.shape)"
   ]
  },
  {
   "cell_type": "code",
   "execution_count": 13,
   "metadata": {},
   "outputs": [],
   "source": [
    "import torch as t\n",
    "import torch.nn as nn\n",
    "import torch.nn.functional as F\n",
    "import torch.utils.data as utils_data\n",
    "from torch.autograd import Variable\n",
    "\n",
    "\n",
    "class MLP(nn.Module):\n",
    "    def __init__(self, input_size, hidden_size, output_size):\n",
    "        super(MLP, self).__init__()\n",
    "        self.fc1 = nn.Linear(input_size, hidden_size)\n",
    "        self.fc2 = nn.Linear(hidden_size, hidden_size)\n",
    "        self.fc3 = nn.Linear(hidden_size, output_size)\n",
    "        \n",
    "    def forward(self, x):\n",
    "        x = t.sigmoid(self.fc1(x))\n",
    "        x = t.sigmoid(self.fc2(x))\n",
    "        x = t.sigmoid(self.fc3(x))\n",
    "        return x\n"
   ]
  },
  {
   "cell_type": "code",
   "execution_count": 14,
   "metadata": {},
   "outputs": [
    {
     "name": "stdout",
     "output_type": "stream",
     "text": [
      "('y', tensor([1., 1., 1.,  ..., 0., 0., 0.]))\n",
      "('inputs.size()[1]', 10)\n",
      "('inputs', tensor([[ 1.1450e+02,  3.0000e+00,  8.8449e+01,  ...,  1.8224e-01,\n",
      "         -4.4660e-02,  2.0089e+00],\n",
      "        [ 3.1602e+01,  1.0000e+00,  2.6546e+01,  ...,  1.5461e+00,\n",
      "         -1.8486e+00,  0.0000e+00],\n",
      "        [ 7.3951e+01,  1.0000e+00,  3.7338e+01,  ...,  1.7023e+00,\n",
      "          1.3926e+00,  0.0000e+00],\n",
      "        ...,\n",
      "        [ 1.6740e+01,  0.0000e+00,  0.0000e+00,  ..., -3.4089e+00,\n",
      "          0.0000e+00,  0.0000e+00],\n",
      "        [ 4.8647e+01,  1.0000e+00,  5.4992e+01,  ..., -1.0928e+00,\n",
      "          1.8139e-01,  0.0000e+00],\n",
      "        [ 1.0084e+01,  0.0000e+00,  0.0000e+00,  ...,  3.0263e+00,\n",
      "          0.0000e+00,  0.0000e+00]]))\n",
      "('targets', tensor([1., 1., 1.,  ..., 0., 0., 0.]))\n",
      "('doing epoch ', 0)\n",
      "Epoch [1/5], Loss: 1643.2527\n",
      "('doing epoch ', 1)\n",
      "Epoch [2/5], Loss: 1643.0412\n",
      "('doing epoch ', 2)\n",
      "Epoch [3/5], Loss: 1642.8326\n",
      "('doing epoch ', 3)\n",
      "Epoch [4/5], Loss: 1642.6231\n",
      "('doing epoch ', 4)\n",
      "Epoch [5/5], Loss: 1642.4139\n"
     ]
    },
    {
     "data": {
      "text/plain": [
       "0.00012159664291087596"
      ]
     },
     "execution_count": 14,
     "metadata": {},
     "output_type": "execute_result"
    }
   ],
   "source": [
    "inputs = Variable(torch.Tensor(X))\n",
    "targets = Variable(torch.Tensor(y))\n",
    "print(\"y\",y)\n",
    "losses = []\n",
    "num_epoch = 5\n",
    "print(\"inputs.size()[1]\",inputs.size()[1])\n",
    "model = MLP(input_size = inputs.size()[1], hidden_size = 10, output_size = 1)\n",
    "print(\"inputs\",inputs)\n",
    "print(\"targets\",targets)\n",
    "\n",
    "optimizer = torch.optim.Adam(model.parameters(), lr = 1e-7, weight_decay=1e-4)\n",
    "\n",
    "loss_fct = nn.BCELoss()\n",
    "training_samples = utils_data.TensorDataset(inputs, targets)\n",
    "data_loader_trn = utils_data.DataLoader(training_samples, batch_size=200, drop_last=False, shuffle=True)\n",
    "\n",
    "#train\n",
    "for epoch in range(num_epoch):\n",
    "    cum_loss = 0\n",
    "    print(\"doing epoch \",epoch)\n",
    "    for batch_idx, (data, target) in enumerate(data_loader_trn):\n",
    "        tr_x, tr_y = data.float(), target.float()\n",
    "        \n",
    "        pred = model(tr_x) \n",
    "        #print(\"pred\",pred)\n",
    "        #print(\"tr_y.unsqueeze(1)\",tr_y.unsqueeze(1))\n",
    "        loss = loss_fct(pred, tr_y.unsqueeze(1)) \n",
    "       \n",
    "        optimizer.zero_grad()\n",
    "        loss.backward()\n",
    "        optimizer.step()\n",
    "        cum_loss += loss.item()\n",
    "        losses.append(loss)\n",
    "\n",
    "            \n",
    "    #if epoch % 10 == 0:\n",
    "    print ('Epoch [%d/%d], Loss: %.4f' %(epoch+1, num_epoch, cum_loss))\n",
    "\n",
    "final_prediction = model(inputs)\n",
    "final_pred_np = final_prediction.clone().detach().numpy()\n",
    "\n",
    "np.corrcoef(final_pred_np.squeeze(), targets)[0,1]\n"
   ]
  },
  {
   "cell_type": "code",
   "execution_count": 15,
   "metadata": {},
   "outputs": [
    {
     "name": "stdout",
     "output_type": "stream",
     "text": [
      "('final_prediction0', tensor([[0.5506],\n",
      "        [0.5563],\n",
      "        [0.5549],\n",
      "        ...,\n",
      "        [0.5503],\n",
      "        [0.5503],\n",
      "        [0.5566]], grad_fn=<SigmoidBackward>))\n"
     ]
    }
   ],
   "source": [
    "final_prediction = model(X0)\n",
    "print(\"final_prediction0\",final_prediction)"
   ]
  },
  {
   "cell_type": "code",
   "execution_count": 16,
   "metadata": {},
   "outputs": [
    {
     "data": {
      "text/plain": [
       "[<matplotlib.lines.Line2D at 0x7f5275d8f510>]"
      ]
     },
     "execution_count": 16,
     "metadata": {},
     "output_type": "execute_result"
    },
    {
     "data": {
      "image/png": "[encoded data removed]",
      "text/plain": [
       "<Figure size 1152x360 with 1 Axes>"
      ]
     },
     "metadata": {
      "needs_background": "light"
     },
     "output_type": "display_data"
    }
   ],
   "source": [
    "plt.figure(figsize=(16,5))\n",
    "#plt.ylim(0,max(losses)+0.02)\n",
    "plt.plot(losses)\n"
   ]
  },
  {
   "cell_type": "code",
   "execution_count": null,
   "metadata": {},
   "outputs": [],
   "source": []
  },
  {
   "cell_type": "code",
   "execution_count": null,
   "metadata": {},
   "outputs": [],
   "source": []
  }
 ],
 "metadata": {
  "kernelspec": {
   "display_name": "Python 2",
   "language": "python",
   "name": "python2"
  },
  "language_info": {
   "codemirror_mode": {
    "name": "ipython",
    "version": 2
   },
   "file_extension": ".py",
   "mimetype": "text/x-python",
   "name": "python",
   "nbconvert_exporter": "python",
   "pygments_lexer": "ipython2",
   "version": "2.7.16"
  }
 },
 "nbformat": 4,
 "nbformat_minor": 2
}
